{
 "cells": [
  {
   "cell_type": "code",
   "execution_count": 1,
   "metadata": {},
   "outputs": [],
   "source": [
    "import pandas as pd"
   ]
  },
  {
   "cell_type": "code",
   "execution_count": 2,
   "metadata": {},
   "outputs": [],
   "source": [
    "cc = pd.read_csv('creditcard.csv')"
   ]
  },
  {
   "cell_type": "code",
   "execution_count": 13,
   "metadata": {},
   "outputs": [],
   "source": [
    "cc1 = pd.read_csv('creditcard_aa.csv')"
   ]
  },
  {
   "cell_type": "code",
   "execution_count": 37,
   "metadata": {},
   "outputs": [
    {
     "data": {
      "text/plain": [
       "Index(['Time', 'V1', 'V2', 'V3', 'V4', 'V5', 'V6', 'V7', 'V8', 'V9', 'V10',\n",
       "       'V11', 'V12', 'V13', 'V14', 'V15', 'V16', 'V17', 'V18', 'V19', 'V20',\n",
       "       'V21', 'V22', 'V23', 'V24', 'V25', 'V26', 'V27', 'V28', 'Amount',\n",
       "       'Class'],\n",
       "      dtype='object')"
      ]
     },
     "execution_count": 37,
     "metadata": {},
     "output_type": "execute_result"
    }
   ],
   "source": [
    "cc1.columns"
   ]
  },
  {
   "cell_type": "code",
   "execution_count": 25,
   "metadata": {},
   "outputs": [
    {
     "data": {
      "text/html": [
       "<div>\n",
       "<style scoped>\n",
       "    .dataframe tbody tr th:only-of-type {\n",
       "        vertical-align: middle;\n",
       "    }\n",
       "\n",
       "    .dataframe tbody tr th {\n",
       "        vertical-align: top;\n",
       "    }\n",
       "\n",
       "    .dataframe thead th {\n",
       "        text-align: right;\n",
       "    }\n",
       "</style>\n",
       "<table border=\"1\" class=\"dataframe\">\n",
       "  <thead>\n",
       "    <tr style=\"text-align: right;\">\n",
       "      <th></th>\n",
       "      <th>Time</th>\n",
       "      <th>V1</th>\n",
       "      <th>V2</th>\n",
       "      <th>V3</th>\n",
       "      <th>V4</th>\n",
       "      <th>V5</th>\n",
       "      <th>V6</th>\n",
       "      <th>V7</th>\n",
       "      <th>V8</th>\n",
       "      <th>V9</th>\n",
       "      <th>...</th>\n",
       "      <th>V21</th>\n",
       "      <th>V22</th>\n",
       "      <th>V23</th>\n",
       "      <th>V24</th>\n",
       "      <th>V25</th>\n",
       "      <th>V26</th>\n",
       "      <th>V27</th>\n",
       "      <th>V28</th>\n",
       "      <th>Amount</th>\n",
       "      <th>Class</th>\n",
       "    </tr>\n",
       "  </thead>\n",
       "  <tbody>\n",
       "    <tr>\n",
       "      <th>0</th>\n",
       "      <td>0</td>\n",
       "      <td>-1.359807</td>\n",
       "      <td>-0.072781</td>\n",
       "      <td>2.536347</td>\n",
       "      <td>1.378155</td>\n",
       "      <td>-0.338321</td>\n",
       "      <td>0.462388</td>\n",
       "      <td>0.239599</td>\n",
       "      <td>0.098698</td>\n",
       "      <td>0.363787</td>\n",
       "      <td>...</td>\n",
       "      <td>-0.018307</td>\n",
       "      <td>0.277838</td>\n",
       "      <td>-0.110474</td>\n",
       "      <td>0.066928</td>\n",
       "      <td>0.128539</td>\n",
       "      <td>-0.189115</td>\n",
       "      <td>0.133558</td>\n",
       "      <td>-0.021053</td>\n",
       "      <td>149.62</td>\n",
       "      <td>0</td>\n",
       "    </tr>\n",
       "    <tr>\n",
       "      <th>1</th>\n",
       "      <td>0</td>\n",
       "      <td>1.191857</td>\n",
       "      <td>0.266151</td>\n",
       "      <td>0.166480</td>\n",
       "      <td>0.448154</td>\n",
       "      <td>0.060018</td>\n",
       "      <td>-0.082361</td>\n",
       "      <td>-0.078803</td>\n",
       "      <td>0.085102</td>\n",
       "      <td>-0.255425</td>\n",
       "      <td>...</td>\n",
       "      <td>-0.225775</td>\n",
       "      <td>-0.638672</td>\n",
       "      <td>0.101288</td>\n",
       "      <td>-0.339846</td>\n",
       "      <td>0.167170</td>\n",
       "      <td>0.125895</td>\n",
       "      <td>-0.008983</td>\n",
       "      <td>0.014724</td>\n",
       "      <td>2.69</td>\n",
       "      <td>0</td>\n",
       "    </tr>\n",
       "    <tr>\n",
       "      <th>2</th>\n",
       "      <td>1</td>\n",
       "      <td>-1.358354</td>\n",
       "      <td>-1.340163</td>\n",
       "      <td>1.773209</td>\n",
       "      <td>0.379780</td>\n",
       "      <td>-0.503198</td>\n",
       "      <td>1.800499</td>\n",
       "      <td>0.791461</td>\n",
       "      <td>0.247676</td>\n",
       "      <td>-1.514654</td>\n",
       "      <td>...</td>\n",
       "      <td>0.247998</td>\n",
       "      <td>0.771679</td>\n",
       "      <td>0.909412</td>\n",
       "      <td>-0.689281</td>\n",
       "      <td>-0.327642</td>\n",
       "      <td>-0.139097</td>\n",
       "      <td>-0.055353</td>\n",
       "      <td>-0.059752</td>\n",
       "      <td>378.66</td>\n",
       "      <td>0</td>\n",
       "    </tr>\n",
       "    <tr>\n",
       "      <th>3</th>\n",
       "      <td>1</td>\n",
       "      <td>-0.966272</td>\n",
       "      <td>-0.185226</td>\n",
       "      <td>1.792993</td>\n",
       "      <td>-0.863291</td>\n",
       "      <td>-0.010309</td>\n",
       "      <td>1.247203</td>\n",
       "      <td>0.237609</td>\n",
       "      <td>0.377436</td>\n",
       "      <td>-1.387024</td>\n",
       "      <td>...</td>\n",
       "      <td>-0.108300</td>\n",
       "      <td>0.005274</td>\n",
       "      <td>-0.190321</td>\n",
       "      <td>-1.175575</td>\n",
       "      <td>0.647376</td>\n",
       "      <td>-0.221929</td>\n",
       "      <td>0.062723</td>\n",
       "      <td>0.061458</td>\n",
       "      <td>123.50</td>\n",
       "      <td>0</td>\n",
       "    </tr>\n",
       "    <tr>\n",
       "      <th>4</th>\n",
       "      <td>2</td>\n",
       "      <td>-1.158233</td>\n",
       "      <td>0.877737</td>\n",
       "      <td>1.548718</td>\n",
       "      <td>0.403034</td>\n",
       "      <td>-0.407193</td>\n",
       "      <td>0.095921</td>\n",
       "      <td>0.592941</td>\n",
       "      <td>-0.270533</td>\n",
       "      <td>0.817739</td>\n",
       "      <td>...</td>\n",
       "      <td>-0.009431</td>\n",
       "      <td>0.798278</td>\n",
       "      <td>-0.137458</td>\n",
       "      <td>0.141267</td>\n",
       "      <td>-0.206010</td>\n",
       "      <td>0.502292</td>\n",
       "      <td>0.219422</td>\n",
       "      <td>0.215153</td>\n",
       "      <td>69.99</td>\n",
       "      <td>0</td>\n",
       "    </tr>\n",
       "  </tbody>\n",
       "</table>\n",
       "<p>5 rows × 31 columns</p>\n",
       "</div>"
      ],
      "text/plain": [
       "   Time        V1        V2        V3        V4        V5        V6        V7  \\\n",
       "0     0 -1.359807 -0.072781  2.536347  1.378155 -0.338321  0.462388  0.239599   \n",
       "1     0  1.191857  0.266151  0.166480  0.448154  0.060018 -0.082361 -0.078803   \n",
       "2     1 -1.358354 -1.340163  1.773209  0.379780 -0.503198  1.800499  0.791461   \n",
       "3     1 -0.966272 -0.185226  1.792993 -0.863291 -0.010309  1.247203  0.237609   \n",
       "4     2 -1.158233  0.877737  1.548718  0.403034 -0.407193  0.095921  0.592941   \n",
       "\n",
       "         V8        V9  ...         V21       V22       V23       V24  \\\n",
       "0  0.098698  0.363787  ...   -0.018307  0.277838 -0.110474  0.066928   \n",
       "1  0.085102 -0.255425  ...   -0.225775 -0.638672  0.101288 -0.339846   \n",
       "2  0.247676 -1.514654  ...    0.247998  0.771679  0.909412 -0.689281   \n",
       "3  0.377436 -1.387024  ...   -0.108300  0.005274 -0.190321 -1.175575   \n",
       "4 -0.270533  0.817739  ...   -0.009431  0.798278 -0.137458  0.141267   \n",
       "\n",
       "        V25       V26       V27       V28  Amount  Class  \n",
       "0  0.128539 -0.189115  0.133558 -0.021053  149.62      0  \n",
       "1  0.167170  0.125895 -0.008983  0.014724    2.69      0  \n",
       "2 -0.327642 -0.139097 -0.055353 -0.059752  378.66      0  \n",
       "3  0.647376 -0.221929  0.062723  0.061458  123.50      0  \n",
       "4 -0.206010  0.502292  0.219422  0.215153   69.99      0  \n",
       "\n",
       "[5 rows x 31 columns]"
      ]
     },
     "execution_count": 25,
     "metadata": {},
     "output_type": "execute_result"
    }
   ],
   "source": [
    "cc1.head()"
   ]
  },
  {
   "cell_type": "code",
   "execution_count": 28,
   "metadata": {},
   "outputs": [],
   "source": [
    "cc2 = pd.read_csv('creditcard_ab.csv', header=None)"
   ]
  },
  {
   "cell_type": "code",
   "execution_count": 40,
   "metadata": {},
   "outputs": [],
   "source": [
    "cc2.columns = cc1.columns"
   ]
  },
  {
   "cell_type": "code",
   "execution_count": 41,
   "metadata": {},
   "outputs": [
    {
     "data": {
      "text/html": [
       "<div>\n",
       "<style scoped>\n",
       "    .dataframe tbody tr th:only-of-type {\n",
       "        vertical-align: middle;\n",
       "    }\n",
       "\n",
       "    .dataframe tbody tr th {\n",
       "        vertical-align: top;\n",
       "    }\n",
       "\n",
       "    .dataframe thead th {\n",
       "        text-align: right;\n",
       "    }\n",
       "</style>\n",
       "<table border=\"1\" class=\"dataframe\">\n",
       "  <thead>\n",
       "    <tr style=\"text-align: right;\">\n",
       "      <th></th>\n",
       "      <th>Time</th>\n",
       "      <th>V1</th>\n",
       "      <th>V2</th>\n",
       "      <th>V3</th>\n",
       "      <th>V4</th>\n",
       "      <th>V5</th>\n",
       "      <th>V6</th>\n",
       "      <th>V7</th>\n",
       "      <th>V8</th>\n",
       "      <th>V9</th>\n",
       "      <th>...</th>\n",
       "      <th>V21</th>\n",
       "      <th>V22</th>\n",
       "      <th>V23</th>\n",
       "      <th>V24</th>\n",
       "      <th>V25</th>\n",
       "      <th>V26</th>\n",
       "      <th>V27</th>\n",
       "      <th>V28</th>\n",
       "      <th>Amount</th>\n",
       "      <th>Class</th>\n",
       "    </tr>\n",
       "  </thead>\n",
       "  <tbody>\n",
       "    <tr>\n",
       "      <th>0</th>\n",
       "      <td>67375.0</td>\n",
       "      <td>-8.385910</td>\n",
       "      <td>6.684397</td>\n",
       "      <td>-2.768966</td>\n",
       "      <td>-2.201446</td>\n",
       "      <td>-1.165741</td>\n",
       "      <td>0.035252</td>\n",
       "      <td>0.008863</td>\n",
       "      <td>0.982109</td>\n",
       "      <td>5.672869</td>\n",
       "      <td>...</td>\n",
       "      <td>-1.323844</td>\n",
       "      <td>-1.171954</td>\n",
       "      <td>0.235235</td>\n",
       "      <td>-1.303059</td>\n",
       "      <td>1.395179</td>\n",
       "      <td>0.125756</td>\n",
       "      <td>1.858557</td>\n",
       "      <td>0.583994</td>\n",
       "      <td>10.76</td>\n",
       "      <td>0</td>\n",
       "    </tr>\n",
       "    <tr>\n",
       "      <th>1</th>\n",
       "      <td>67375.0</td>\n",
       "      <td>-0.750462</td>\n",
       "      <td>1.235814</td>\n",
       "      <td>-0.506432</td>\n",
       "      <td>-1.198784</td>\n",
       "      <td>2.421259</td>\n",
       "      <td>3.426297</td>\n",
       "      <td>-0.149277</td>\n",
       "      <td>0.161381</td>\n",
       "      <td>-0.247763</td>\n",
       "      <td>...</td>\n",
       "      <td>0.413828</td>\n",
       "      <td>-1.288445</td>\n",
       "      <td>0.074214</td>\n",
       "      <td>0.917170</td>\n",
       "      <td>0.063812</td>\n",
       "      <td>0.098936</td>\n",
       "      <td>0.389123</td>\n",
       "      <td>0.158663</td>\n",
       "      <td>5.49</td>\n",
       "      <td>0</td>\n",
       "    </tr>\n",
       "    <tr>\n",
       "      <th>2</th>\n",
       "      <td>67376.0</td>\n",
       "      <td>-2.994246</td>\n",
       "      <td>2.907147</td>\n",
       "      <td>-0.760902</td>\n",
       "      <td>1.293654</td>\n",
       "      <td>-1.623169</td>\n",
       "      <td>-0.295446</td>\n",
       "      <td>-1.337222</td>\n",
       "      <td>2.274480</td>\n",
       "      <td>-0.244710</td>\n",
       "      <td>...</td>\n",
       "      <td>0.097198</td>\n",
       "      <td>0.058329</td>\n",
       "      <td>0.195729</td>\n",
       "      <td>0.048563</td>\n",
       "      <td>0.126143</td>\n",
       "      <td>-0.217233</td>\n",
       "      <td>-0.149761</td>\n",
       "      <td>0.059375</td>\n",
       "      <td>0.99</td>\n",
       "      <td>0</td>\n",
       "    </tr>\n",
       "    <tr>\n",
       "      <th>3</th>\n",
       "      <td>67377.0</td>\n",
       "      <td>1.205477</td>\n",
       "      <td>0.247405</td>\n",
       "      <td>-0.599937</td>\n",
       "      <td>1.312635</td>\n",
       "      <td>2.134258</td>\n",
       "      <td>3.860219</td>\n",
       "      <td>-0.632221</td>\n",
       "      <td>0.961053</td>\n",
       "      <td>-0.729920</td>\n",
       "      <td>...</td>\n",
       "      <td>-0.258123</td>\n",
       "      <td>-0.991178</td>\n",
       "      <td>0.111099</td>\n",
       "      <td>0.946632</td>\n",
       "      <td>0.335732</td>\n",
       "      <td>-0.244185</td>\n",
       "      <td>0.006686</td>\n",
       "      <td>0.028477</td>\n",
       "      <td>13.60</td>\n",
       "      <td>0</td>\n",
       "    </tr>\n",
       "    <tr>\n",
       "      <th>4</th>\n",
       "      <td>67378.0</td>\n",
       "      <td>1.204767</td>\n",
       "      <td>-0.090795</td>\n",
       "      <td>0.369417</td>\n",
       "      <td>-0.177446</td>\n",
       "      <td>-0.515592</td>\n",
       "      <td>-0.539666</td>\n",
       "      <td>-0.204135</td>\n",
       "      <td>0.085854</td>\n",
       "      <td>0.094591</td>\n",
       "      <td>...</td>\n",
       "      <td>-0.152829</td>\n",
       "      <td>-0.488542</td>\n",
       "      <td>0.169320</td>\n",
       "      <td>0.248762</td>\n",
       "      <td>0.004995</td>\n",
       "      <td>0.850362</td>\n",
       "      <td>-0.081066</td>\n",
       "      <td>-0.010125</td>\n",
       "      <td>0.00</td>\n",
       "      <td>0</td>\n",
       "    </tr>\n",
       "  </tbody>\n",
       "</table>\n",
       "<p>5 rows × 31 columns</p>\n",
       "</div>"
      ],
      "text/plain": [
       "      Time        V1        V2        V3        V4        V5        V6  \\\n",
       "0  67375.0 -8.385910  6.684397 -2.768966 -2.201446 -1.165741  0.035252   \n",
       "1  67375.0 -0.750462  1.235814 -0.506432 -1.198784  2.421259  3.426297   \n",
       "2  67376.0 -2.994246  2.907147 -0.760902  1.293654 -1.623169 -0.295446   \n",
       "3  67377.0  1.205477  0.247405 -0.599937  1.312635  2.134258  3.860219   \n",
       "4  67378.0  1.204767 -0.090795  0.369417 -0.177446 -0.515592 -0.539666   \n",
       "\n",
       "         V7        V8        V9  ...         V21       V22       V23  \\\n",
       "0  0.008863  0.982109  5.672869  ...   -1.323844 -1.171954  0.235235   \n",
       "1 -0.149277  0.161381 -0.247763  ...    0.413828 -1.288445  0.074214   \n",
       "2 -1.337222  2.274480 -0.244710  ...    0.097198  0.058329  0.195729   \n",
       "3 -0.632221  0.961053 -0.729920  ...   -0.258123 -0.991178  0.111099   \n",
       "4 -0.204135  0.085854  0.094591  ...   -0.152829 -0.488542  0.169320   \n",
       "\n",
       "        V24       V25       V26       V27       V28  Amount  Class  \n",
       "0 -1.303059  1.395179  0.125756  1.858557  0.583994   10.76      0  \n",
       "1  0.917170  0.063812  0.098936  0.389123  0.158663    5.49      0  \n",
       "2  0.048563  0.126143 -0.217233 -0.149761  0.059375    0.99      0  \n",
       "3  0.946632  0.335732 -0.244185  0.006686  0.028477   13.60      0  \n",
       "4  0.248762  0.004995  0.850362 -0.081066 -0.010125    0.00      0  \n",
       "\n",
       "[5 rows x 31 columns]"
      ]
     },
     "execution_count": 41,
     "metadata": {},
     "output_type": "execute_result"
    }
   ],
   "source": [
    "cc2.head()"
   ]
  },
  {
   "cell_type": "code",
   "execution_count": 30,
   "metadata": {},
   "outputs": [],
   "source": [
    "cc3 = pd.read_csv('creditcard_ac.csv', header=None)"
   ]
  },
  {
   "cell_type": "code",
   "execution_count": 42,
   "metadata": {},
   "outputs": [],
   "source": [
    "cc3.columns = cc1.columns"
   ]
  },
  {
   "cell_type": "code",
   "execution_count": 43,
   "metadata": {},
   "outputs": [
    {
     "data": {
      "text/html": [
       "<div>\n",
       "<style scoped>\n",
       "    .dataframe tbody tr th:only-of-type {\n",
       "        vertical-align: middle;\n",
       "    }\n",
       "\n",
       "    .dataframe tbody tr th {\n",
       "        vertical-align: top;\n",
       "    }\n",
       "\n",
       "    .dataframe thead th {\n",
       "        text-align: right;\n",
       "    }\n",
       "</style>\n",
       "<table border=\"1\" class=\"dataframe\">\n",
       "  <thead>\n",
       "    <tr style=\"text-align: right;\">\n",
       "      <th></th>\n",
       "      <th>Time</th>\n",
       "      <th>V1</th>\n",
       "      <th>V2</th>\n",
       "      <th>V3</th>\n",
       "      <th>V4</th>\n",
       "      <th>V5</th>\n",
       "      <th>V6</th>\n",
       "      <th>V7</th>\n",
       "      <th>V8</th>\n",
       "      <th>V9</th>\n",
       "      <th>...</th>\n",
       "      <th>V21</th>\n",
       "      <th>V22</th>\n",
       "      <th>V23</th>\n",
       "      <th>V24</th>\n",
       "      <th>V25</th>\n",
       "      <th>V26</th>\n",
       "      <th>V27</th>\n",
       "      <th>V28</th>\n",
       "      <th>Amount</th>\n",
       "      <th>Class</th>\n",
       "    </tr>\n",
       "  </thead>\n",
       "  <tbody>\n",
       "    <tr>\n",
       "      <th>0</th>\n",
       "      <td>133236</td>\n",
       "      <td>2.320998</td>\n",
       "      <td>-0.496412</td>\n",
       "      <td>-2.593376</td>\n",
       "      <td>-0.962050</td>\n",
       "      <td>0.323330</td>\n",
       "      <td>-1.454052</td>\n",
       "      <td>0.329897</td>\n",
       "      <td>-0.520266</td>\n",
       "      <td>-0.860366</td>\n",
       "      <td>...</td>\n",
       "      <td>0.452442</td>\n",
       "      <td>1.325093</td>\n",
       "      <td>-0.168678</td>\n",
       "      <td>0.738673</td>\n",
       "      <td>0.734526</td>\n",
       "      <td>0.278194</td>\n",
       "      <td>-0.104142</td>\n",
       "      <td>-0.091720</td>\n",
       "      <td>1.79</td>\n",
       "      <td>0</td>\n",
       "    </tr>\n",
       "    <tr>\n",
       "      <th>1</th>\n",
       "      <td>133236</td>\n",
       "      <td>0.984382</td>\n",
       "      <td>-0.984506</td>\n",
       "      <td>-1.542319</td>\n",
       "      <td>3.886187</td>\n",
       "      <td>0.524369</td>\n",
       "      <td>0.877043</td>\n",
       "      <td>0.857381</td>\n",
       "      <td>-0.047189</td>\n",
       "      <td>-1.289925</td>\n",
       "      <td>...</td>\n",
       "      <td>0.077759</td>\n",
       "      <td>-0.892798</td>\n",
       "      <td>-0.177990</td>\n",
       "      <td>0.161153</td>\n",
       "      <td>-0.259299</td>\n",
       "      <td>-0.338523</td>\n",
       "      <td>-0.138552</td>\n",
       "      <td>0.031279</td>\n",
       "      <td>495.74</td>\n",
       "      <td>0</td>\n",
       "    </tr>\n",
       "    <tr>\n",
       "      <th>2</th>\n",
       "      <td>133237</td>\n",
       "      <td>-2.027230</td>\n",
       "      <td>0.789398</td>\n",
       "      <td>0.871372</td>\n",
       "      <td>1.143603</td>\n",
       "      <td>-0.687666</td>\n",
       "      <td>0.664077</td>\n",
       "      <td>0.085892</td>\n",
       "      <td>1.135718</td>\n",
       "      <td>-0.328196</td>\n",
       "      <td>...</td>\n",
       "      <td>-0.438663</td>\n",
       "      <td>-1.339964</td>\n",
       "      <td>0.051017</td>\n",
       "      <td>-0.485070</td>\n",
       "      <td>0.425289</td>\n",
       "      <td>-0.781270</td>\n",
       "      <td>0.064064</td>\n",
       "      <td>-0.167272</td>\n",
       "      <td>116.23</td>\n",
       "      <td>0</td>\n",
       "    </tr>\n",
       "    <tr>\n",
       "      <th>3</th>\n",
       "      <td>133237</td>\n",
       "      <td>1.181869</td>\n",
       "      <td>-0.866624</td>\n",
       "      <td>-3.695980</td>\n",
       "      <td>0.764069</td>\n",
       "      <td>0.916832</td>\n",
       "      <td>-0.908053</td>\n",
       "      <td>1.167768</td>\n",
       "      <td>-0.446382</td>\n",
       "      <td>-0.194159</td>\n",
       "      <td>...</td>\n",
       "      <td>0.157848</td>\n",
       "      <td>-0.437339</td>\n",
       "      <td>-0.536194</td>\n",
       "      <td>-1.207990</td>\n",
       "      <td>0.051041</td>\n",
       "      <td>0.686621</td>\n",
       "      <td>-0.151719</td>\n",
       "      <td>0.062246</td>\n",
       "      <td>480.00</td>\n",
       "      <td>0</td>\n",
       "    </tr>\n",
       "    <tr>\n",
       "      <th>4</th>\n",
       "      <td>133238</td>\n",
       "      <td>2.297761</td>\n",
       "      <td>-1.341185</td>\n",
       "      <td>-1.851117</td>\n",
       "      <td>-1.669719</td>\n",
       "      <td>-0.564445</td>\n",
       "      <td>-0.769775</td>\n",
       "      <td>-0.514819</td>\n",
       "      <td>-0.402028</td>\n",
       "      <td>-1.488964</td>\n",
       "      <td>...</td>\n",
       "      <td>-0.339445</td>\n",
       "      <td>-0.584873</td>\n",
       "      <td>0.067070</td>\n",
       "      <td>-1.028095</td>\n",
       "      <td>0.046212</td>\n",
       "      <td>-0.180829</td>\n",
       "      <td>-0.029687</td>\n",
       "      <td>-0.060951</td>\n",
       "      <td>69.99</td>\n",
       "      <td>0</td>\n",
       "    </tr>\n",
       "  </tbody>\n",
       "</table>\n",
       "<p>5 rows × 31 columns</p>\n",
       "</div>"
      ],
      "text/plain": [
       "     Time        V1        V2        V3        V4        V5        V6  \\\n",
       "0  133236  2.320998 -0.496412 -2.593376 -0.962050  0.323330 -1.454052   \n",
       "1  133236  0.984382 -0.984506 -1.542319  3.886187  0.524369  0.877043   \n",
       "2  133237 -2.027230  0.789398  0.871372  1.143603 -0.687666  0.664077   \n",
       "3  133237  1.181869 -0.866624 -3.695980  0.764069  0.916832 -0.908053   \n",
       "4  133238  2.297761 -1.341185 -1.851117 -1.669719 -0.564445 -0.769775   \n",
       "\n",
       "         V7        V8        V9  ...         V21       V22       V23  \\\n",
       "0  0.329897 -0.520266 -0.860366  ...    0.452442  1.325093 -0.168678   \n",
       "1  0.857381 -0.047189 -1.289925  ...    0.077759 -0.892798 -0.177990   \n",
       "2  0.085892  1.135718 -0.328196  ...   -0.438663 -1.339964  0.051017   \n",
       "3  1.167768 -0.446382 -0.194159  ...    0.157848 -0.437339 -0.536194   \n",
       "4 -0.514819 -0.402028 -1.488964  ...   -0.339445 -0.584873  0.067070   \n",
       "\n",
       "        V24       V25       V26       V27       V28  Amount  Class  \n",
       "0  0.738673  0.734526  0.278194 -0.104142 -0.091720    1.79      0  \n",
       "1  0.161153 -0.259299 -0.338523 -0.138552  0.031279  495.74      0  \n",
       "2 -0.485070  0.425289 -0.781270  0.064064 -0.167272  116.23      0  \n",
       "3 -1.207990  0.051041  0.686621 -0.151719  0.062246  480.00      0  \n",
       "4 -1.028095  0.046212 -0.180829 -0.029687 -0.060951   69.99      0  \n",
       "\n",
       "[5 rows x 31 columns]"
      ]
     },
     "execution_count": 43,
     "metadata": {},
     "output_type": "execute_result"
    }
   ],
   "source": [
    "cc3.head()"
   ]
  },
  {
   "cell_type": "code",
   "execution_count": 48,
   "metadata": {},
   "outputs": [],
   "source": [
    "cc_combined = cc1.append(cc2, ignore_index=True).append(cc3, ignore_index=True)"
   ]
  },
  {
   "cell_type": "code",
   "execution_count": 49,
   "metadata": {},
   "outputs": [],
   "source": [
    "cc_dict = cc.to_dict()"
   ]
  },
  {
   "cell_type": "code",
   "execution_count": 50,
   "metadata": {},
   "outputs": [],
   "source": [
    "cc_combined_dict = cc_combined.to_dict()"
   ]
  },
  {
   "cell_type": "code",
   "execution_count": 51,
   "metadata": {},
   "outputs": [
    {
     "data": {
      "text/plain": [
       "True"
      ]
     },
     "execution_count": 51,
     "metadata": {},
     "output_type": "execute_result"
    }
   ],
   "source": [
    "cc_dict == cc_combined_dict"
   ]
  },
  {
   "cell_type": "code",
   "execution_count": 52,
   "metadata": {},
   "outputs": [
    {
     "data": {
      "text/plain": [
       "(284807, 31)"
      ]
     },
     "execution_count": 52,
     "metadata": {},
     "output_type": "execute_result"
    }
   ],
   "source": [
    "cc_combined.shape"
   ]
  },
  {
   "cell_type": "code",
   "execution_count": 53,
   "metadata": {},
   "outputs": [
    {
     "data": {
      "text/plain": [
       "(284807, 31)"
      ]
     },
     "execution_count": 53,
     "metadata": {},
     "output_type": "execute_result"
    }
   ],
   "source": [
    "cc.shape"
   ]
  },
  {
   "cell_type": "code",
   "execution_count": 54,
   "metadata": {},
   "outputs": [],
   "source": [
    "cc_comb = pd.read_csv('cc_comb.csv')"
   ]
  },
  {
   "cell_type": "code",
   "execution_count": 55,
   "metadata": {},
   "outputs": [
    {
     "data": {
      "text/plain": [
       "(284807, 31)"
      ]
     },
     "execution_count": 55,
     "metadata": {},
     "output_type": "execute_result"
    }
   ],
   "source": [
    "cc_comb.shape"
   ]
  },
  {
   "cell_type": "code",
   "execution_count": 56,
   "metadata": {},
   "outputs": [
    {
     "data": {
      "text/plain": [
       "True"
      ]
     },
     "execution_count": 56,
     "metadata": {},
     "output_type": "execute_result"
    }
   ],
   "source": [
    "cc_comb.to_dict() == cc_dict"
   ]
  },
  {
   "cell_type": "code",
   "execution_count": 57,
   "metadata": {},
   "outputs": [
    {
     "data": {
      "text/plain": [
       "True"
      ]
     },
     "execution_count": 57,
     "metadata": {},
     "output_type": "execute_result"
    }
   ],
   "source": [
    "cc_comb.to_dict() == cc_combined_dict"
   ]
  }
 ],
 "metadata": {
  "kernelspec": {
   "display_name": "Python 3",
   "language": "python",
   "name": "python3"
  },
  "language_info": {
   "codemirror_mode": {
    "name": "ipython",
    "version": 3
   },
   "file_extension": ".py",
   "mimetype": "text/x-python",
   "name": "python",
   "nbconvert_exporter": "python",
   "pygments_lexer": "ipython3",
   "version": "3.7.1"
  }
 },
 "nbformat": 4,
 "nbformat_minor": 2
}
